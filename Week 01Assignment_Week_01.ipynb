{
 "cells": [
  {
   "cell_type": "markdown",
   "metadata": {},
   "source": [
    "# Assignment Week - 01"
   ]
  },
  {
   "cell_type": "markdown",
   "metadata": {},
   "source": [
    "First step, we import all the libraries we are going to use throughout the notebook and prepare the csv files in order to start the Data cleaning step. steps.csv file is in a European delimited format which are seperated by \";\" instead of \",\". Therefor we use the (sep = \";\") when we are loading the file into a dataframe"
   ]
  },
  {
   "cell_type": "code",
   "execution_count": 170,
   "metadata": {},
   "outputs": [],
   "source": [
    "# importing all libraries we are going to use throughout the Notebook\n",
    "import seaborn as sns\n",
    "import pandas as pd\n",
    "import matplotlib.pyplot as plt\n",
    "import math\n",
    "\n",
    "# loading csv files into Pandas data frames\n",
    "df_steps = pd.read_csv(\"steps.csv\", sep = \";\")\n",
    "df_survey = pd.read_csv(\"survey.csv\")"
   ]
  },
  {
   "cell_type": "markdown",
   "metadata": {},
   "source": [
    "We view the first 5 cases (rows) of each data frame."
   ]
  },
  {
   "cell_type": "code",
   "execution_count": 171,
   "metadata": {},
   "outputs": [
    {
     "data": {
      "text/html": [
       "<div>\n",
       "<style scoped>\n",
       "    .dataframe tbody tr th:only-of-type {\n",
       "        vertical-align: middle;\n",
       "    }\n",
       "\n",
       "    .dataframe tbody tr th {\n",
       "        vertical-align: top;\n",
       "    }\n",
       "\n",
       "    .dataframe thead th {\n",
       "        text-align: right;\n",
       "    }\n",
       "</style>\n",
       "<table border=\"1\" class=\"dataframe\">\n",
       "  <thead>\n",
       "    <tr style=\"text-align: right;\">\n",
       "      <th></th>\n",
       "      <th>id</th>\n",
       "      <th>20-6-2013</th>\n",
       "      <th>21-6-2013</th>\n",
       "      <th>22-6-2013</th>\n",
       "      <th>23-6-2013</th>\n",
       "      <th>24-6-2013</th>\n",
       "      <th>25-6-2013</th>\n",
       "      <th>26-6-2013</th>\n",
       "      <th>27-6-2013</th>\n",
       "      <th>28-6-2013</th>\n",
       "      <th>...</th>\n",
       "      <th>4-5-2014</th>\n",
       "      <th>5-5-2014</th>\n",
       "      <th>6-5-2014</th>\n",
       "      <th>7-5-2014</th>\n",
       "      <th>8-5-2014</th>\n",
       "      <th>9-5-2014</th>\n",
       "      <th>10-5-2014</th>\n",
       "      <th>11-5-2014</th>\n",
       "      <th>12-5-2014</th>\n",
       "      <th>13-5-2014</th>\n",
       "    </tr>\n",
       "  </thead>\n",
       "  <tbody>\n",
       "    <tr>\n",
       "      <th>0</th>\n",
       "      <td>1</td>\n",
       "      <td>NaN</td>\n",
       "      <td>NaN</td>\n",
       "      <td>NaN</td>\n",
       "      <td>NaN</td>\n",
       "      <td>3941.0</td>\n",
       "      <td>15733.0</td>\n",
       "      <td>9929.0</td>\n",
       "      <td>12879.0</td>\n",
       "      <td>10541.0</td>\n",
       "      <td>...</td>\n",
       "      <td>NaN</td>\n",
       "      <td>NaN</td>\n",
       "      <td>NaN</td>\n",
       "      <td>NaN</td>\n",
       "      <td>NaN</td>\n",
       "      <td>NaN</td>\n",
       "      <td>NaN</td>\n",
       "      <td>NaN</td>\n",
       "      <td>NaN</td>\n",
       "      <td>NaN</td>\n",
       "    </tr>\n",
       "    <tr>\n",
       "      <th>1</th>\n",
       "      <td>2</td>\n",
       "      <td>NaN</td>\n",
       "      <td>NaN</td>\n",
       "      <td>10473.0</td>\n",
       "      <td>705.0</td>\n",
       "      <td>4287.0</td>\n",
       "      <td>5507.0</td>\n",
       "      <td>4024.0</td>\n",
       "      <td>3926.0</td>\n",
       "      <td>14595.0</td>\n",
       "      <td>...</td>\n",
       "      <td>NaN</td>\n",
       "      <td>NaN</td>\n",
       "      <td>NaN</td>\n",
       "      <td>NaN</td>\n",
       "      <td>NaN</td>\n",
       "      <td>NaN</td>\n",
       "      <td>NaN</td>\n",
       "      <td>NaN</td>\n",
       "      <td>NaN</td>\n",
       "      <td>NaN</td>\n",
       "    </tr>\n",
       "    <tr>\n",
       "      <th>2</th>\n",
       "      <td>3</td>\n",
       "      <td>NaN</td>\n",
       "      <td>11428.0</td>\n",
       "      <td>12523.0</td>\n",
       "      <td>2553.0</td>\n",
       "      <td>190.0</td>\n",
       "      <td>2164.0</td>\n",
       "      <td>8185.0</td>\n",
       "      <td>9630.0</td>\n",
       "      <td>8983.0</td>\n",
       "      <td>...</td>\n",
       "      <td>3914.0</td>\n",
       "      <td>4364.0</td>\n",
       "      <td>NaN</td>\n",
       "      <td>NaN</td>\n",
       "      <td>NaN</td>\n",
       "      <td>6227.0</td>\n",
       "      <td>4567.0</td>\n",
       "      <td>2567.0</td>\n",
       "      <td>1129.0</td>\n",
       "      <td>NaN</td>\n",
       "    </tr>\n",
       "    <tr>\n",
       "      <th>3</th>\n",
       "      <td>4</td>\n",
       "      <td>NaN</td>\n",
       "      <td>NaN</td>\n",
       "      <td>NaN</td>\n",
       "      <td>NaN</td>\n",
       "      <td>NaN</td>\n",
       "      <td>NaN</td>\n",
       "      <td>NaN</td>\n",
       "      <td>NaN</td>\n",
       "      <td>NaN</td>\n",
       "      <td>...</td>\n",
       "      <td>NaN</td>\n",
       "      <td>NaN</td>\n",
       "      <td>NaN</td>\n",
       "      <td>NaN</td>\n",
       "      <td>NaN</td>\n",
       "      <td>NaN</td>\n",
       "      <td>NaN</td>\n",
       "      <td>NaN</td>\n",
       "      <td>NaN</td>\n",
       "      <td>NaN</td>\n",
       "    </tr>\n",
       "    <tr>\n",
       "      <th>4</th>\n",
       "      <td>5</td>\n",
       "      <td>NaN</td>\n",
       "      <td>NaN</td>\n",
       "      <td>NaN</td>\n",
       "      <td>NaN</td>\n",
       "      <td>NaN</td>\n",
       "      <td>NaN</td>\n",
       "      <td>NaN</td>\n",
       "      <td>NaN</td>\n",
       "      <td>NaN</td>\n",
       "      <td>...</td>\n",
       "      <td>NaN</td>\n",
       "      <td>NaN</td>\n",
       "      <td>NaN</td>\n",
       "      <td>NaN</td>\n",
       "      <td>NaN</td>\n",
       "      <td>NaN</td>\n",
       "      <td>NaN</td>\n",
       "      <td>NaN</td>\n",
       "      <td>NaN</td>\n",
       "      <td>NaN</td>\n",
       "    </tr>\n",
       "  </tbody>\n",
       "</table>\n",
       "<p>5 rows × 329 columns</p>\n",
       "</div>"
      ],
      "text/plain": [
       "   id  20-6-2013  21-6-2013  22-6-2013  23-6-2013  24-6-2013  25-6-2013  \\\n",
       "0   1        NaN        NaN        NaN        NaN     3941.0    15733.0   \n",
       "1   2        NaN        NaN    10473.0      705.0     4287.0     5507.0   \n",
       "2   3        NaN    11428.0    12523.0     2553.0      190.0     2164.0   \n",
       "3   4        NaN        NaN        NaN        NaN        NaN        NaN   \n",
       "4   5        NaN        NaN        NaN        NaN        NaN        NaN   \n",
       "\n",
       "   26-6-2013  27-6-2013  28-6-2013  ...  4-5-2014  5-5-2014  6-5-2014  \\\n",
       "0     9929.0    12879.0    10541.0  ...       NaN       NaN       NaN   \n",
       "1     4024.0     3926.0    14595.0  ...       NaN       NaN       NaN   \n",
       "2     8185.0     9630.0     8983.0  ...    3914.0    4364.0       NaN   \n",
       "3        NaN        NaN        NaN  ...       NaN       NaN       NaN   \n",
       "4        NaN        NaN        NaN  ...       NaN       NaN       NaN   \n",
       "\n",
       "   7-5-2014  8-5-2014  9-5-2014  10-5-2014  11-5-2014  12-5-2014  13-5-2014  \n",
       "0       NaN       NaN       NaN        NaN        NaN        NaN        NaN  \n",
       "1       NaN       NaN       NaN        NaN        NaN        NaN        NaN  \n",
       "2       NaN       NaN    6227.0     4567.0     2567.0     1129.0        NaN  \n",
       "3       NaN       NaN       NaN        NaN        NaN        NaN        NaN  \n",
       "4       NaN       NaN       NaN        NaN        NaN        NaN        NaN  \n",
       "\n",
       "[5 rows x 329 columns]"
      ]
     },
     "execution_count": 171,
     "metadata": {},
     "output_type": "execute_result"
    }
   ],
   "source": [
    "df_steps.head()"
   ]
  },
  {
   "cell_type": "code",
   "execution_count": 172,
   "metadata": {},
   "outputs": [
    {
     "data": {
      "text/html": [
       "<div>\n",
       "<style scoped>\n",
       "    .dataframe tbody tr th:only-of-type {\n",
       "        vertical-align: middle;\n",
       "    }\n",
       "\n",
       "    .dataframe tbody tr th {\n",
       "        vertical-align: top;\n",
       "    }\n",
       "\n",
       "    .dataframe thead th {\n",
       "        text-align: right;\n",
       "    }\n",
       "</style>\n",
       "<table border=\"1\" class=\"dataframe\">\n",
       "  <thead>\n",
       "    <tr style=\"text-align: right;\">\n",
       "      <th></th>\n",
       "      <th>id</th>\n",
       "      <th>city</th>\n",
       "      <th>gender</th>\n",
       "      <th>age</th>\n",
       "      <th>hh_size</th>\n",
       "      <th>education</th>\n",
       "      <th>education_1</th>\n",
       "      <th>height</th>\n",
       "      <th>weight</th>\n",
       "    </tr>\n",
       "  </thead>\n",
       "  <tbody>\n",
       "    <tr>\n",
       "      <th>0</th>\n",
       "      <td>1</td>\n",
       "      <td>Bordeaux</td>\n",
       "      <td>Male</td>\n",
       "      <td>25-34</td>\n",
       "      <td>4</td>\n",
       "      <td>4</td>\n",
       "      <td>Master or doctorate</td>\n",
       "      <td>178.0</td>\n",
       "      <td>98.0</td>\n",
       "    </tr>\n",
       "    <tr>\n",
       "      <th>1</th>\n",
       "      <td>2</td>\n",
       "      <td>Lille</td>\n",
       "      <td>Male</td>\n",
       "      <td>35-44</td>\n",
       "      <td>1</td>\n",
       "      <td>3</td>\n",
       "      <td>Bachelor</td>\n",
       "      <td>180.0</td>\n",
       "      <td>77.0</td>\n",
       "    </tr>\n",
       "    <tr>\n",
       "      <th>2</th>\n",
       "      <td>3</td>\n",
       "      <td>Montpellier</td>\n",
       "      <td>Male</td>\n",
       "      <td>25-34</td>\n",
       "      <td>2</td>\n",
       "      <td>2</td>\n",
       "      <td>Master or doctorate</td>\n",
       "      <td>180.0</td>\n",
       "      <td>83.0</td>\n",
       "    </tr>\n",
       "    <tr>\n",
       "      <th>3</th>\n",
       "      <td>4</td>\n",
       "      <td>Lyon</td>\n",
       "      <td>Male</td>\n",
       "      <td>&lt;25</td>\n",
       "      <td>1</td>\n",
       "      <td>1</td>\n",
       "      <td>Bachelor</td>\n",
       "      <td>178.0</td>\n",
       "      <td>80.0</td>\n",
       "    </tr>\n",
       "    <tr>\n",
       "      <th>4</th>\n",
       "      <td>5</td>\n",
       "      <td>Montpellier</td>\n",
       "      <td>Female</td>\n",
       "      <td>25-34</td>\n",
       "      <td>3</td>\n",
       "      <td>4</td>\n",
       "      <td>Bachelor</td>\n",
       "      <td>167.0</td>\n",
       "      <td>61.0</td>\n",
       "    </tr>\n",
       "  </tbody>\n",
       "</table>\n",
       "</div>"
      ],
      "text/plain": [
       "   id         city  gender    age  hh_size  education          education_1  \\\n",
       "0   1     Bordeaux    Male  25-34        4          4  Master or doctorate   \n",
       "1   2        Lille    Male  35-44        1          3             Bachelor   \n",
       "2   3  Montpellier    Male  25-34        2          2  Master or doctorate   \n",
       "3   4         Lyon    Male    <25        1          1             Bachelor   \n",
       "4   5  Montpellier  Female  25-34        3          4             Bachelor   \n",
       "\n",
       "   height  weight  \n",
       "0   178.0    98.0  \n",
       "1   180.0    77.0  \n",
       "2   180.0    83.0  \n",
       "3   178.0    80.0  \n",
       "4   167.0    61.0  "
      ]
     },
     "execution_count": 172,
     "metadata": {},
     "output_type": "execute_result"
    }
   ],
   "source": [
    "df_survey.head()"
   ]
  },
  {
   "cell_type": "markdown",
   "metadata": {},
   "source": [
    "We merge these two data frames to get one master data frame containing all the information"
   ]
  },
  {
   "cell_type": "code",
   "execution_count": 185,
   "metadata": {},
   "outputs": [
    {
     "data": {
      "text/html": [
       "<div>\n",
       "<style scoped>\n",
       "    .dataframe tbody tr th:only-of-type {\n",
       "        vertical-align: middle;\n",
       "    }\n",
       "\n",
       "    .dataframe tbody tr th {\n",
       "        vertical-align: top;\n",
       "    }\n",
       "\n",
       "    .dataframe thead th {\n",
       "        text-align: right;\n",
       "    }\n",
       "</style>\n",
       "<table border=\"1\" class=\"dataframe\">\n",
       "  <thead>\n",
       "    <tr style=\"text-align: right;\">\n",
       "      <th></th>\n",
       "      <th>id</th>\n",
       "      <th>20-6-2013</th>\n",
       "      <th>21-6-2013</th>\n",
       "      <th>22-6-2013</th>\n",
       "      <th>23-6-2013</th>\n",
       "      <th>24-6-2013</th>\n",
       "      <th>25-6-2013</th>\n",
       "      <th>26-6-2013</th>\n",
       "      <th>27-6-2013</th>\n",
       "      <th>28-6-2013</th>\n",
       "      <th>...</th>\n",
       "      <th>12-5-2014</th>\n",
       "      <th>13-5-2014</th>\n",
       "      <th>city</th>\n",
       "      <th>gender</th>\n",
       "      <th>age</th>\n",
       "      <th>hh_size</th>\n",
       "      <th>education</th>\n",
       "      <th>education_1</th>\n",
       "      <th>height</th>\n",
       "      <th>weight</th>\n",
       "    </tr>\n",
       "  </thead>\n",
       "  <tbody>\n",
       "    <tr>\n",
       "      <th>0</th>\n",
       "      <td>1</td>\n",
       "      <td>NaN</td>\n",
       "      <td>NaN</td>\n",
       "      <td>NaN</td>\n",
       "      <td>NaN</td>\n",
       "      <td>3941.0</td>\n",
       "      <td>15733.0</td>\n",
       "      <td>9929.0</td>\n",
       "      <td>12879.0</td>\n",
       "      <td>10541.0</td>\n",
       "      <td>...</td>\n",
       "      <td>NaN</td>\n",
       "      <td>NaN</td>\n",
       "      <td>Bordeaux</td>\n",
       "      <td>Male</td>\n",
       "      <td>25-34</td>\n",
       "      <td>4</td>\n",
       "      <td>4</td>\n",
       "      <td>Master or doctorate</td>\n",
       "      <td>178.0</td>\n",
       "      <td>98.0</td>\n",
       "    </tr>\n",
       "    <tr>\n",
       "      <th>1</th>\n",
       "      <td>2</td>\n",
       "      <td>NaN</td>\n",
       "      <td>NaN</td>\n",
       "      <td>10473.0</td>\n",
       "      <td>705.0</td>\n",
       "      <td>4287.0</td>\n",
       "      <td>5507.0</td>\n",
       "      <td>4024.0</td>\n",
       "      <td>3926.0</td>\n",
       "      <td>14595.0</td>\n",
       "      <td>...</td>\n",
       "      <td>NaN</td>\n",
       "      <td>NaN</td>\n",
       "      <td>Lille</td>\n",
       "      <td>Male</td>\n",
       "      <td>35-44</td>\n",
       "      <td>1</td>\n",
       "      <td>3</td>\n",
       "      <td>Bachelor</td>\n",
       "      <td>180.0</td>\n",
       "      <td>77.0</td>\n",
       "    </tr>\n",
       "    <tr>\n",
       "      <th>2</th>\n",
       "      <td>3</td>\n",
       "      <td>NaN</td>\n",
       "      <td>11428.0</td>\n",
       "      <td>12523.0</td>\n",
       "      <td>2553.0</td>\n",
       "      <td>190.0</td>\n",
       "      <td>2164.0</td>\n",
       "      <td>8185.0</td>\n",
       "      <td>9630.0</td>\n",
       "      <td>8983.0</td>\n",
       "      <td>...</td>\n",
       "      <td>1129.0</td>\n",
       "      <td>NaN</td>\n",
       "      <td>Montpellier</td>\n",
       "      <td>Male</td>\n",
       "      <td>25-34</td>\n",
       "      <td>2</td>\n",
       "      <td>2</td>\n",
       "      <td>Master or doctorate</td>\n",
       "      <td>180.0</td>\n",
       "      <td>83.0</td>\n",
       "    </tr>\n",
       "    <tr>\n",
       "      <th>3</th>\n",
       "      <td>4</td>\n",
       "      <td>NaN</td>\n",
       "      <td>NaN</td>\n",
       "      <td>NaN</td>\n",
       "      <td>NaN</td>\n",
       "      <td>NaN</td>\n",
       "      <td>NaN</td>\n",
       "      <td>NaN</td>\n",
       "      <td>NaN</td>\n",
       "      <td>NaN</td>\n",
       "      <td>...</td>\n",
       "      <td>NaN</td>\n",
       "      <td>NaN</td>\n",
       "      <td>Lyon</td>\n",
       "      <td>Male</td>\n",
       "      <td>&lt;25</td>\n",
       "      <td>1</td>\n",
       "      <td>1</td>\n",
       "      <td>Bachelor</td>\n",
       "      <td>178.0</td>\n",
       "      <td>80.0</td>\n",
       "    </tr>\n",
       "    <tr>\n",
       "      <th>4</th>\n",
       "      <td>5</td>\n",
       "      <td>NaN</td>\n",
       "      <td>NaN</td>\n",
       "      <td>NaN</td>\n",
       "      <td>NaN</td>\n",
       "      <td>NaN</td>\n",
       "      <td>NaN</td>\n",
       "      <td>NaN</td>\n",
       "      <td>NaN</td>\n",
       "      <td>NaN</td>\n",
       "      <td>...</td>\n",
       "      <td>NaN</td>\n",
       "      <td>NaN</td>\n",
       "      <td>Montpellier</td>\n",
       "      <td>Female</td>\n",
       "      <td>25-34</td>\n",
       "      <td>3</td>\n",
       "      <td>4</td>\n",
       "      <td>Bachelor</td>\n",
       "      <td>167.0</td>\n",
       "      <td>61.0</td>\n",
       "    </tr>\n",
       "  </tbody>\n",
       "</table>\n",
       "<p>5 rows × 337 columns</p>\n",
       "</div>"
      ],
      "text/plain": [
       "   id  20-6-2013  21-6-2013  22-6-2013  23-6-2013  24-6-2013  25-6-2013  \\\n",
       "0   1        NaN        NaN        NaN        NaN     3941.0    15733.0   \n",
       "1   2        NaN        NaN    10473.0      705.0     4287.0     5507.0   \n",
       "2   3        NaN    11428.0    12523.0     2553.0      190.0     2164.0   \n",
       "3   4        NaN        NaN        NaN        NaN        NaN        NaN   \n",
       "4   5        NaN        NaN        NaN        NaN        NaN        NaN   \n",
       "\n",
       "   26-6-2013  27-6-2013  28-6-2013  ...  12-5-2014  13-5-2014         city  \\\n",
       "0     9929.0    12879.0    10541.0  ...        NaN        NaN     Bordeaux   \n",
       "1     4024.0     3926.0    14595.0  ...        NaN        NaN        Lille   \n",
       "2     8185.0     9630.0     8983.0  ...     1129.0        NaN  Montpellier   \n",
       "3        NaN        NaN        NaN  ...        NaN        NaN         Lyon   \n",
       "4        NaN        NaN        NaN  ...        NaN        NaN  Montpellier   \n",
       "\n",
       "   gender    age  hh_size  education          education_1  height  weight  \n",
       "0    Male  25-34        4          4  Master or doctorate   178.0    98.0  \n",
       "1    Male  35-44        1          3             Bachelor   180.0    77.0  \n",
       "2    Male  25-34        2          2  Master or doctorate   180.0    83.0  \n",
       "3    Male    <25        1          1             Bachelor   178.0    80.0  \n",
       "4  Female  25-34        3          4             Bachelor   167.0    61.0  \n",
       "\n",
       "[5 rows x 337 columns]"
      ]
     },
     "execution_count": 185,
     "metadata": {},
     "output_type": "execute_result"
    }
   ],
   "source": [
    "df = pd.merge(df_steps, df_survey, on = \"id\")\n",
    "df.head()"
   ]
  },
  {
   "cell_type": "markdown",
   "metadata": {},
   "source": [
    "In order to calculate the Mean steps per day, we transpose the columns. the dates are spread horizentally. \n",
    "In the following blocks, we transpose the cells to get the value of each date. Then place those valuse inside a list and itirate through the original Dataframe to get the mean."
   ]
  },
  {
   "cell_type": "code",
   "execution_count": 214,
   "metadata": {},
   "outputs": [
    {
     "data": {
      "text/plain": [
       "array(['id', '20-6-2013', '21-6-2013', '22-6-2013', '23-6-2013',\n",
       "       '24-6-2013', '25-6-2013', '26-6-2013', '27-6-2013', '28-6-2013',\n",
       "       '29-6-2013', '30-6-2013', '1-7-2013', '2-7-2013', '3-7-2013',\n",
       "       '4-7-2013', '5-7-2013', '6-7-2013', '7-7-2013', '8-7-2013',\n",
       "       '9-7-2013', '10-7-2013', '11-7-2013', '12-7-2013', '13-7-2013',\n",
       "       '14-7-2013', '15-7-2013', '16-7-2013', '17-7-2013', '18-7-2013',\n",
       "       '19-7-2013', '20-7-2013', '21-7-2013', '22-7-2013', '23-7-2013',\n",
       "       '24-7-2013', '25-7-2013', '26-7-2013', '27-7-2013', '28-7-2013',\n",
       "       '29-7-2013', '30-7-2013', '31-7-2013', '1-8-2013', '2-8-2013',\n",
       "       '3-8-2013', '4-8-2013', '5-8-2013', '6-8-2013', '7-8-2013',\n",
       "       '8-8-2013', '9-8-2013', '10-8-2013', '11-8-2013', '12-8-2013',\n",
       "       '13-8-2013', '14-8-2013', '15-8-2013', '16-8-2013', '17-8-2013',\n",
       "       '18-8-2013', '19-8-2013', '20-8-2013', '21-8-2013', '22-8-2013',\n",
       "       '23-8-2013', '24-8-2013', '25-8-2013', '26-8-2013', '27-8-2013',\n",
       "       '28-8-2013', '29-8-2013', '30-8-2013', '31-8-2013', '1-9-2013',\n",
       "       '2-9-2013', '3-9-2013', '4-9-2013', '5-9-2013', '6-9-2013',\n",
       "       '7-9-2013', '8-9-2013', '9-9-2013', '10-9-2013', '11-9-2013',\n",
       "       '12-9-2013', '13-9-2013', '14-9-2013', '15-9-2013', '16-9-2013',\n",
       "       '17-9-2013', '18-9-2013', '19-9-2013', '20-9-2013', '21-9-2013',\n",
       "       '22-9-2013', '23-9-2013', '24-9-2013', '25-9-2013', '26-9-2013',\n",
       "       '27-9-2013', '28-9-2013', '29-9-2013', '30-9-2013', '1-10-2013',\n",
       "       '2-10-2013', '3-10-2013', '4-10-2013', '5-10-2013', '6-10-2013',\n",
       "       '7-10-2013', '8-10-2013', '9-10-2013', '10-10-2013', '11-10-2013',\n",
       "       '12-10-2013', '13-10-2013', '14-10-2013', '15-10-2013',\n",
       "       '16-10-2013', '17-10-2013', '18-10-2013', '19-10-2013',\n",
       "       '20-10-2013', '21-10-2013', '22-10-2013', '23-10-2013',\n",
       "       '24-10-2013', '25-10-2013', '26-10-2013', '27-10-2013',\n",
       "       '28-10-2013', '29-10-2013', '30-10-2013', '31-10-2013',\n",
       "       '1-11-2013', '2-11-2013', '3-11-2013', '4-11-2013', '5-11-2013',\n",
       "       '6-11-2013', '7-11-2013', '8-11-2013', '9-11-2013', '10-11-2013',\n",
       "       '11-11-2013', '12-11-2013', '13-11-2013', '14-11-2013',\n",
       "       '15-11-2013', '16-11-2013', '17-11-2013', '18-11-2013',\n",
       "       '19-11-2013', '20-11-2013', '21-11-2013', '22-11-2013',\n",
       "       '23-11-2013', '24-11-2013', '25-11-2013', '26-11-2013',\n",
       "       '27-11-2013', '28-11-2013', '29-11-2013', '30-11-2013',\n",
       "       '1-12-2013', '2-12-2013', '3-12-2013', '4-12-2013', '5-12-2013',\n",
       "       '6-12-2013', '7-12-2013', '8-12-2013', '9-12-2013', '10-12-2013',\n",
       "       '11-12-2013', '12-12-2013', '13-12-2013', '14-12-2013',\n",
       "       '15-12-2013', '16-12-2013', '17-12-2013', '18-12-2013',\n",
       "       '19-12-2013', '20-12-2013', '21-12-2013', '22-12-2013',\n",
       "       '23-12-2013', '24-12-2013', '25-12-2013', '26-12-2013',\n",
       "       '27-12-2013', '28-12-2013', '29-12-2013', '30-12-2013',\n",
       "       '31-12-2013', '1-1-2014', '2-1-2014', '3-1-2014', '4-1-2014',\n",
       "       '5-1-2014', '6-1-2014', '7-1-2014', '8-1-2014', '9-1-2014',\n",
       "       '10-1-2014', '11-1-2014', '12-1-2014', '13-1-2014', '14-1-2014',\n",
       "       '15-1-2014', '16-1-2014', '17-1-2014', '18-1-2014', '19-1-2014',\n",
       "       '20-1-2014', '21-1-2014', '22-1-2014', '23-1-2014', '24-1-2014',\n",
       "       '25-1-2014', '26-1-2014', '27-1-2014', '28-1-2014', '29-1-2014',\n",
       "       '30-1-2014', '31-1-2014', '1-2-2014', '2-2-2014', '3-2-2014',\n",
       "       '4-2-2014', '5-2-2014', '6-2-2014', '7-2-2014', '8-2-2014',\n",
       "       '9-2-2014', '10-2-2014', '11-2-2014', '12-2-2014', '13-2-2014',\n",
       "       '14-2-2014', '15-2-2014', '16-2-2014', '17-2-2014', '18-2-2014',\n",
       "       '19-2-2014', '20-2-2014', '21-2-2014', '22-2-2014', '23-2-2014',\n",
       "       '24-2-2014', '25-2-2014', '26-2-2014', '27-2-2014', '28-2-2014',\n",
       "       '1-3-2014', '2-3-2014', '3-3-2014', '4-3-2014', '5-3-2014',\n",
       "       '6-3-2014', '7-3-2014', '8-3-2014', '9-3-2014', '10-3-2014',\n",
       "       '11-3-2014', '12-3-2014', '13-3-2014', '14-3-2014', '15-3-2014',\n",
       "       '16-3-2014', '17-3-2014', '18-3-2014', '19-3-2014', '20-3-2014',\n",
       "       '21-3-2014', '22-3-2014', '23-3-2014', '24-3-2014', '25-3-2014',\n",
       "       '26-3-2014', '27-3-2014', '28-3-2014', '29-3-2014', '30-3-2014',\n",
       "       '31-3-2014', '1-4-2014', '2-4-2014', '3-4-2014', '4-4-2014',\n",
       "       '5-4-2014', '6-4-2014', '7-4-2014', '8-4-2014', '9-4-2014',\n",
       "       '10-4-2014', '11-4-2014', '12-4-2014', '13-4-2014', '14-4-2014',\n",
       "       '15-4-2014', '16-4-2014', '17-4-2014', '18-4-2014', '19-4-2014',\n",
       "       '20-4-2014', '21-4-2014', '22-4-2014', '23-4-2014', '24-4-2014',\n",
       "       '25-4-2014', '26-4-2014', '27-4-2014', '28-4-2014', '29-4-2014',\n",
       "       '30-4-2014', '1-5-2014', '2-5-2014', '3-5-2014', '4-5-2014',\n",
       "       '5-5-2014', '6-5-2014', '7-5-2014', '8-5-2014', '9-5-2014',\n",
       "       '10-5-2014', '11-5-2014', '12-5-2014', '13-5-2014', 'city',\n",
       "       'gender', 'age', 'hh_size', 'education', 'education_1', 'height',\n",
       "       'weight'], dtype=object)"
      ]
     },
     "execution_count": 214,
     "metadata": {},
     "output_type": "execute_result"
    }
   ],
   "source": [
    "df_set = df.transpose()\n",
    "df_set\n",
    "df_set[\"date\"] = df_set.index\n",
    "df_set[\"date\"].unique()"
   ]
  },
  {
   "cell_type": "code",
   "execution_count": 215,
   "metadata": {},
   "outputs": [
    {
     "data": {
      "text/plain": [
       "array(['20-6-2013', '21-6-2013', '22-6-2013', '23-6-2013', '24-6-2013',\n",
       "       '25-6-2013', '26-6-2013', '27-6-2013', '28-6-2013', '29-6-2013',\n",
       "       '30-6-2013', '1-7-2013', '2-7-2013', '3-7-2013', '4-7-2013',\n",
       "       '5-7-2013', '6-7-2013', '7-7-2013', '8-7-2013', '9-7-2013',\n",
       "       '10-7-2013', '11-7-2013', '12-7-2013', '13-7-2013', '14-7-2013',\n",
       "       '15-7-2013', '16-7-2013', '17-7-2013', '18-7-2013', '19-7-2013',\n",
       "       '20-7-2013', '21-7-2013', '22-7-2013', '23-7-2013', '24-7-2013',\n",
       "       '25-7-2013', '26-7-2013', '27-7-2013', '28-7-2013', '29-7-2013',\n",
       "       '30-7-2013', '31-7-2013', '1-8-2013', '2-8-2013', '3-8-2013',\n",
       "       '4-8-2013', '5-8-2013', '6-8-2013', '7-8-2013', '8-8-2013',\n",
       "       '9-8-2013', '10-8-2013', '11-8-2013', '12-8-2013', '13-8-2013',\n",
       "       '14-8-2013', '15-8-2013', '16-8-2013', '17-8-2013', '18-8-2013',\n",
       "       '19-8-2013', '20-8-2013', '21-8-2013', '22-8-2013', '23-8-2013',\n",
       "       '24-8-2013', '25-8-2013', '26-8-2013', '27-8-2013', '28-8-2013',\n",
       "       '29-8-2013', '30-8-2013', '31-8-2013', '1-9-2013', '2-9-2013',\n",
       "       '3-9-2013', '4-9-2013', '5-9-2013', '6-9-2013', '7-9-2013',\n",
       "       '8-9-2013', '9-9-2013', '10-9-2013', '11-9-2013', '12-9-2013',\n",
       "       '13-9-2013', '14-9-2013', '15-9-2013', '16-9-2013', '17-9-2013',\n",
       "       '18-9-2013', '19-9-2013', '20-9-2013', '21-9-2013', '22-9-2013',\n",
       "       '23-9-2013', '24-9-2013', '25-9-2013', '26-9-2013', '27-9-2013',\n",
       "       '28-9-2013', '29-9-2013', '30-9-2013', '1-10-2013', '2-10-2013',\n",
       "       '3-10-2013', '4-10-2013', '5-10-2013', '6-10-2013', '7-10-2013',\n",
       "       '8-10-2013', '9-10-2013', '10-10-2013', '11-10-2013', '12-10-2013',\n",
       "       '13-10-2013', '14-10-2013', '15-10-2013', '16-10-2013',\n",
       "       '17-10-2013', '18-10-2013', '19-10-2013', '20-10-2013',\n",
       "       '21-10-2013', '22-10-2013', '23-10-2013', '24-10-2013',\n",
       "       '25-10-2013', '26-10-2013', '27-10-2013', '28-10-2013',\n",
       "       '29-10-2013', '30-10-2013', '31-10-2013', '1-11-2013', '2-11-2013',\n",
       "       '3-11-2013', '4-11-2013', '5-11-2013', '6-11-2013', '7-11-2013',\n",
       "       '8-11-2013', '9-11-2013', '10-11-2013', '11-11-2013', '12-11-2013',\n",
       "       '13-11-2013', '14-11-2013', '15-11-2013', '16-11-2013',\n",
       "       '17-11-2013', '18-11-2013', '19-11-2013', '20-11-2013',\n",
       "       '21-11-2013', '22-11-2013', '23-11-2013', '24-11-2013',\n",
       "       '25-11-2013', '26-11-2013', '27-11-2013', '28-11-2013',\n",
       "       '29-11-2013', '30-11-2013', '1-12-2013', '2-12-2013', '3-12-2013',\n",
       "       '4-12-2013', '5-12-2013', '6-12-2013', '7-12-2013', '8-12-2013',\n",
       "       '9-12-2013', '10-12-2013', '11-12-2013', '12-12-2013',\n",
       "       '13-12-2013', '14-12-2013', '15-12-2013', '16-12-2013',\n",
       "       '17-12-2013', '18-12-2013', '19-12-2013', '20-12-2013',\n",
       "       '21-12-2013', '22-12-2013', '23-12-2013', '24-12-2013',\n",
       "       '25-12-2013', '26-12-2013', '27-12-2013', '28-12-2013',\n",
       "       '29-12-2013', '30-12-2013', '31-12-2013', '1-1-2014', '2-1-2014',\n",
       "       '3-1-2014', '4-1-2014', '5-1-2014', '6-1-2014', '7-1-2014',\n",
       "       '8-1-2014', '9-1-2014', '10-1-2014', '11-1-2014', '12-1-2014',\n",
       "       '13-1-2014', '14-1-2014', '15-1-2014', '16-1-2014', '17-1-2014',\n",
       "       '18-1-2014', '19-1-2014', '20-1-2014', '21-1-2014', '22-1-2014',\n",
       "       '23-1-2014', '24-1-2014', '25-1-2014', '26-1-2014', '27-1-2014',\n",
       "       '28-1-2014', '29-1-2014', '30-1-2014', '31-1-2014', '1-2-2014',\n",
       "       '2-2-2014', '3-2-2014', '4-2-2014', '5-2-2014', '6-2-2014',\n",
       "       '7-2-2014', '8-2-2014', '9-2-2014', '10-2-2014', '11-2-2014',\n",
       "       '12-2-2014', '13-2-2014', '14-2-2014', '15-2-2014', '16-2-2014',\n",
       "       '17-2-2014', '18-2-2014', '19-2-2014', '20-2-2014', '21-2-2014',\n",
       "       '22-2-2014', '23-2-2014', '24-2-2014', '25-2-2014', '26-2-2014',\n",
       "       '27-2-2014', '28-2-2014', '1-3-2014', '2-3-2014', '3-3-2014',\n",
       "       '4-3-2014', '5-3-2014', '6-3-2014', '7-3-2014', '8-3-2014',\n",
       "       '9-3-2014', '10-3-2014', '11-3-2014', '12-3-2014', '13-3-2014',\n",
       "       '14-3-2014', '15-3-2014', '16-3-2014', '17-3-2014', '18-3-2014',\n",
       "       '19-3-2014', '20-3-2014', '21-3-2014', '22-3-2014', '23-3-2014',\n",
       "       '24-3-2014', '25-3-2014', '26-3-2014', '27-3-2014', '28-3-2014',\n",
       "       '29-3-2014', '30-3-2014', '31-3-2014', '1-4-2014', '2-4-2014',\n",
       "       '3-4-2014', '4-4-2014', '5-4-2014', '6-4-2014', '7-4-2014',\n",
       "       '8-4-2014', '9-4-2014', '10-4-2014', '11-4-2014', '12-4-2014',\n",
       "       '13-4-2014', '14-4-2014', '15-4-2014', '16-4-2014', '17-4-2014',\n",
       "       '18-4-2014', '19-4-2014', '20-4-2014', '21-4-2014', '22-4-2014',\n",
       "       '23-4-2014', '24-4-2014', '25-4-2014', '26-4-2014', '27-4-2014',\n",
       "       '28-4-2014', '29-4-2014', '30-4-2014', '1-5-2014', '2-5-2014',\n",
       "       '3-5-2014', '4-5-2014', '5-5-2014', '6-5-2014', '7-5-2014',\n",
       "       '8-5-2014', '9-5-2014', '10-5-2014', '11-5-2014', '12-5-2014',\n",
       "       '13-5-2014'], dtype=object)"
      ]
     },
     "execution_count": 215,
     "metadata": {},
     "output_type": "execute_result"
    }
   ],
   "source": [
    "to_drop = [\"id\",\"city\", \"gender\", \"age\", \"hh_size\", \"education\", \"education_1\", \"height\", \"weight\"]\n",
    "df_set = df_set.drop(to_drop)\n",
    "df_set[\"date\"].unique()"
   ]
  },
  {
   "cell_type": "code",
   "execution_count": 216,
   "metadata": {},
   "outputs": [],
   "source": [
    "df_set = df.transpose()\n",
    "df_set[\"Date\"] = df_set.index\n",
    "to_drop = [\"id\",\"city\", \"gender\", \"age\", \"hh_size\", \"education\", \"education_1\", \"height\", \"weight\"]\n",
    "df_set = df_set.drop(to_drop)\n",
    "days = df_set[\"Date\"].unique()"
   ]
  },
  {
   "cell_type": "code",
   "execution_count": 220,
   "metadata": {},
   "outputs": [],
   "source": [
    "new_list = []\n",
    "for item in days:\n",
    "    steps_mean = df[item].mean()\n",
    "    temp_dict = {\"day\" : item, \"mean\" : steps_mean}\n",
    "    new_list.append(temp_dict)\n",
    "\n",
    "df_set = pd.DataFrame(new_list)\n",
    "df_set[\"day\"] = pd.to_datetime(df_set[\"day\"])\n"
   ]
  },
  {
   "cell_type": "markdown",
   "metadata": {},
   "source": [
    "Now we end up with a new data frame that contains the day and the mean of steps per day"
   ]
  },
  {
   "cell_type": "code",
   "execution_count": 221,
   "metadata": {},
   "outputs": [
    {
     "data": {
      "text/html": [
       "<div>\n",
       "<style scoped>\n",
       "    .dataframe tbody tr th:only-of-type {\n",
       "        vertical-align: middle;\n",
       "    }\n",
       "\n",
       "    .dataframe tbody tr th {\n",
       "        vertical-align: top;\n",
       "    }\n",
       "\n",
       "    .dataframe thead th {\n",
       "        text-align: right;\n",
       "    }\n",
       "</style>\n",
       "<table border=\"1\" class=\"dataframe\">\n",
       "  <thead>\n",
       "    <tr style=\"text-align: right;\">\n",
       "      <th></th>\n",
       "      <th>day</th>\n",
       "      <th>mean</th>\n",
       "    </tr>\n",
       "  </thead>\n",
       "  <tbody>\n",
       "    <tr>\n",
       "      <th>0</th>\n",
       "      <td>2013-06-20</td>\n",
       "      <td>3642.416667</td>\n",
       "    </tr>\n",
       "    <tr>\n",
       "      <th>1</th>\n",
       "      <td>2013-06-21</td>\n",
       "      <td>9034.724280</td>\n",
       "    </tr>\n",
       "    <tr>\n",
       "      <th>2</th>\n",
       "      <td>2013-06-22</td>\n",
       "      <td>10889.636691</td>\n",
       "    </tr>\n",
       "    <tr>\n",
       "      <th>3</th>\n",
       "      <td>2013-06-23</td>\n",
       "      <td>7402.847973</td>\n",
       "    </tr>\n",
       "    <tr>\n",
       "      <th>4</th>\n",
       "      <td>2013-06-24</td>\n",
       "      <td>8110.370056</td>\n",
       "    </tr>\n",
       "  </tbody>\n",
       "</table>\n",
       "</div>"
      ],
      "text/plain": [
       "         day          mean\n",
       "0 2013-06-20   3642.416667\n",
       "1 2013-06-21   9034.724280\n",
       "2 2013-06-22  10889.636691\n",
       "3 2013-06-23   7402.847973\n",
       "4 2013-06-24   8110.370056"
      ]
     },
     "execution_count": 221,
     "metadata": {},
     "output_type": "execute_result"
    }
   ],
   "source": [
    "df_set.head()"
   ]
  },
  {
   "cell_type": "markdown",
   "metadata": {},
   "source": [
    "We use a scatter plot to represtent a timeline of mean of steps per day."
   ]
  },
  {
   "cell_type": "markdown",
   "metadata": {},
   "source": [
    "Withe the graphical representation, we notice Outliers that are goin between 20000 and 30000 step"
   ]
  },
  {
   "cell_type": "code",
   "execution_count": 218,
   "metadata": {},
   "outputs": [
    {
     "data": {
      "image/png": "[encoded data removed]",
      "text/plain": [
       "<Figure size 432x288 with 1 Axes>"
      ]
     },
     "metadata": {
      "needs_background": "light"
     },
     "output_type": "display_data"
    }
   ],
   "source": [
    "sns.scatterplot(data = df_set, x = \"day\", y = \"mean\")\n",
    "plt.title('Timeline Scatter Plot Mean steps per day')\n",
    "plt.xlabel(\"Day\")\n",
    "plt.ylabel(\"Mean\")\n",
    "plt.show()"
   ]
  },
  {
   "cell_type": "markdown",
   "metadata": {},
   "source": [
    "Now we calculate the Mean of our average steps. The median, the variance of our sample population and our standard deviation. Which is the squareroot of our variance."
   ]
  },
  {
   "cell_type": "markdown",
   "metadata": {},
   "source": [
    "Note: Mathmatic formulas markdown is not working"
   ]
  },
  {
   "cell_type": "code",
   "execution_count": 222,
   "metadata": {},
   "outputs": [
    {
     "name": "stdout",
     "output_type": "stream",
     "text": [
      "the mean of steps per day is: 8202.974536861735 steps\n",
      "the median of steps per day is: 7856.073033707865 steps\n",
      "the variance of steps per day is: 9783902.178617552\n",
      "the standard deviation is: 3127.9229815674094\n"
     ]
    }
   ],
   "source": [
    "mean_steps = df_set[\"mean\"].mean()\n",
    "median_steps = df_set[\"mean\"].median()\n",
    "variance_steps = df_set[\"mean\"].var()\n",
    "standard_deviation = math.sqrt(variance_steps)\n",
    "print(\"the mean of steps per day is:\", mean_steps, \"steps\")\n",
    "print(\"the median of steps per day is:\", median_steps, \"steps\")\n",
    "print(\"the variance of steps per day is:\", variance_steps)\n",
    "print(\"the standard deviation is:\", standard_deviation)"
   ]
  },
  {
   "cell_type": "markdown",
   "metadata": {},
   "source": [
    "Now we create a histogram to represent our our mean steps per day. And we super impose it with a density plot."
   ]
  },
  {
   "cell_type": "code",
   "execution_count": 224,
   "metadata": {},
   "outputs": [
    {
     "data": {
      "image/png": "[encoded data removed]",
      "text/plain": [
       "<Figure size 360x360 with 1 Axes>"
      ]
     },
     "metadata": {
      "needs_background": "light"
     },
     "output_type": "display_data"
    }
   ],
   "source": [
    "sns.displot(data = df_set, x = \"mean\", kde = True)\n",
    "plt.title('Mean steps per day histogram')\n",
    "plt.xlabel(\"Mean\")\n",
    "plt.show()"
   ]
  },
  {
   "cell_type": "markdown",
   "metadata": {},
   "source": [
    "We notice the plot is left skewed so we add the mean and the median previously calculated to the plot. We remove the bars and change the kind property of the plot with kind = kde for better visualtisation. We notice the Median is slightly bigger than the Mean. (Median < Mean)"
   ]
  },
  {
   "cell_type": "code",
   "execution_count": 234,
   "metadata": {},
   "outputs": [
    {
     "data": {
      "image/png": "[encoded data removed]",
      "text/plain": [
       "<Figure size 360x360 with 1 Axes>"
      ]
     },
     "metadata": {
      "needs_background": "light"
     },
     "output_type": "display_data"
    }
   ],
   "source": [
    "sns.displot(data = df_set, x = \"mean\", kind = \"kde\", rug = True)\n",
    "plt.title('Mean steps per day histogram')\n",
    "plt.xlabel(\"Mean\")\n",
    "plt.axvline(median_steps, 0, 100, color='green', label='median')\n",
    "plt.axvline(mean_steps, 0, 100, color='red', label='mean')\n",
    "plt.legend()\n",
    "plt.show()"
   ]
  },
  {
   "cell_type": "markdown",
   "metadata": {},
   "source": [
    "Then we finally add a box plot to visualise the distributiob of the data. And super impose it with Mean and Median previously calculated. we notice a couple of outliers also but the high concentration of data points is between 5000 and 10000 steps."
   ]
  },
  {
   "cell_type": "code",
   "execution_count": 198,
   "metadata": {},
   "outputs": [
    {
     "data": {
      "image/png": "[encoded data removed]",
      "text/plain": [
       "<Figure size 432x288 with 1 Axes>"
      ]
     },
     "metadata": {
      "needs_background": "light"
     },
     "output_type": "display_data"
    }
   ],
   "source": [
    "sns.boxplot(data = df_set, x = \"mean\")\n",
    "plt.axvline(median_steps, 0, 100, color='green', label='median')\n",
    "plt.axvline(mean_steps, 0, 100, color='red', label='mean')\n",
    "plt.legend()\n",
    "plt.show()"
   ]
  },
  {
   "cell_type": "code",
   "execution_count": null,
   "metadata": {},
   "outputs": [],
   "source": []
  },
  {
   "cell_type": "code",
   "execution_count": null,
   "metadata": {},
   "outputs": [],
   "source": []
  }
 ],
 "metadata": {
  "kernelspec": {
   "display_name": "Python 3",
   "language": "python",
   "name": "python3"
  },
  "language_info": {
   "codemirror_mode": {
    "name": "ipython",
    "version": 3
   },
   "file_extension": ".py",
   "mimetype": "text/x-python",
   "name": "python",
   "nbconvert_exporter": "python",
   "pygments_lexer": "ipython3",
   "version": "3.8.3"
  }
 },
 "nbformat": 4,
 "nbformat_minor": 4
}
