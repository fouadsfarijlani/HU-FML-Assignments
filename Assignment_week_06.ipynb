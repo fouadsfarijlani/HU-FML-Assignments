{
 "cells": [
  {
   "cell_type": "markdown",
   "metadata": {},
   "source": [
    "# Weekly Assignment 06"
   ]
  },
  {
   "cell_type": "markdown",
   "metadata": {},
   "source": [
    "The purpose of this assignment is to predict the rating category (Positive and Neutral/Negative) of **dresses** in a dataset. Given that reviews with rating 4 and more (Rating>4)  are considered **Positive** and ones with rating equals to 3 or less (Rating<3) are considered as **Neutral/Negative**. We are going to use **Naive Bayes** algorithm to predict our classification."
   ]
  },
  {
   "cell_type": "markdown",
   "metadata": {},
   "source": [
    "# Data Processing"
   ]
  },
  {
   "cell_type": "markdown",
   "metadata": {},
   "source": [
    "let's start by importing the libraries and imporint our dataset for analysis."
   ]
  },
  {
   "cell_type": "code",
   "execution_count": 113,
   "metadata": {},
   "outputs": [],
   "source": [
    "# importing the libraries we are going to use in our notebook\n",
    "import pandas as pd\n",
    "from random import randrange\n",
    "from sklearn.model_selection import train_test_split\n",
    "from sklearn.feature_extraction.text import CountVectorizer\n",
    "from sklearn.metrics import confusion_matrix, classification_report\n",
    "from sklearn.naive_bayes import MultinomialNB\n"
   ]
  },
  {
   "cell_type": "code",
   "execution_count": 96,
   "metadata": {},
   "outputs": [
    {
     "data": {
      "text/html": [
       "<div>\n",
       "<style scoped>\n",
       "    .dataframe tbody tr th:only-of-type {\n",
       "        vertical-align: middle;\n",
       "    }\n",
       "\n",
       "    .dataframe tbody tr th {\n",
       "        vertical-align: top;\n",
       "    }\n",
       "\n",
       "    .dataframe thead th {\n",
       "        text-align: right;\n",
       "    }\n",
       "</style>\n",
       "<table border=\"1\" class=\"dataframe\">\n",
       "  <thead>\n",
       "    <tr style=\"text-align: right;\">\n",
       "      <th></th>\n",
       "      <th>Unnamed: 0</th>\n",
       "      <th>Clothing ID</th>\n",
       "      <th>Age</th>\n",
       "      <th>Title</th>\n",
       "      <th>Review Text</th>\n",
       "      <th>Rating</th>\n",
       "      <th>Recommended IND</th>\n",
       "      <th>Positive Feedback Count</th>\n",
       "      <th>Division Name</th>\n",
       "      <th>Department Name</th>\n",
       "      <th>Class Name</th>\n",
       "    </tr>\n",
       "  </thead>\n",
       "  <tbody>\n",
       "    <tr>\n",
       "      <th>0</th>\n",
       "      <td>0</td>\n",
       "      <td>767</td>\n",
       "      <td>33</td>\n",
       "      <td>NaN</td>\n",
       "      <td>Absolutely wonderful - silky and sexy and comf...</td>\n",
       "      <td>4</td>\n",
       "      <td>1</td>\n",
       "      <td>0</td>\n",
       "      <td>Initmates</td>\n",
       "      <td>Intimate</td>\n",
       "      <td>Intimates</td>\n",
       "    </tr>\n",
       "    <tr>\n",
       "      <th>1</th>\n",
       "      <td>1</td>\n",
       "      <td>1080</td>\n",
       "      <td>34</td>\n",
       "      <td>NaN</td>\n",
       "      <td>Love this dress!  it's sooo pretty.  i happene...</td>\n",
       "      <td>5</td>\n",
       "      <td>1</td>\n",
       "      <td>4</td>\n",
       "      <td>General</td>\n",
       "      <td>Dresses</td>\n",
       "      <td>Dresses</td>\n",
       "    </tr>\n",
       "    <tr>\n",
       "      <th>2</th>\n",
       "      <td>2</td>\n",
       "      <td>1077</td>\n",
       "      <td>60</td>\n",
       "      <td>Some major design flaws</td>\n",
       "      <td>I had such high hopes for this dress and reall...</td>\n",
       "      <td>3</td>\n",
       "      <td>0</td>\n",
       "      <td>0</td>\n",
       "      <td>General</td>\n",
       "      <td>Dresses</td>\n",
       "      <td>Dresses</td>\n",
       "    </tr>\n",
       "    <tr>\n",
       "      <th>3</th>\n",
       "      <td>3</td>\n",
       "      <td>1049</td>\n",
       "      <td>50</td>\n",
       "      <td>My favorite buy!</td>\n",
       "      <td>I love, love, love this jumpsuit. it's fun, fl...</td>\n",
       "      <td>5</td>\n",
       "      <td>1</td>\n",
       "      <td>0</td>\n",
       "      <td>General Petite</td>\n",
       "      <td>Bottoms</td>\n",
       "      <td>Pants</td>\n",
       "    </tr>\n",
       "    <tr>\n",
       "      <th>4</th>\n",
       "      <td>4</td>\n",
       "      <td>847</td>\n",
       "      <td>47</td>\n",
       "      <td>Flattering shirt</td>\n",
       "      <td>This shirt is very flattering to all due to th...</td>\n",
       "      <td>5</td>\n",
       "      <td>1</td>\n",
       "      <td>6</td>\n",
       "      <td>General</td>\n",
       "      <td>Tops</td>\n",
       "      <td>Blouses</td>\n",
       "    </tr>\n",
       "  </tbody>\n",
       "</table>\n",
       "</div>"
      ],
      "text/plain": [
       "   Unnamed: 0  Clothing ID  Age                    Title  \\\n",
       "0           0          767   33                      NaN   \n",
       "1           1         1080   34                      NaN   \n",
       "2           2         1077   60  Some major design flaws   \n",
       "3           3         1049   50         My favorite buy!   \n",
       "4           4          847   47         Flattering shirt   \n",
       "\n",
       "                                         Review Text  Rating  Recommended IND  \\\n",
       "0  Absolutely wonderful - silky and sexy and comf...       4                1   \n",
       "1  Love this dress!  it's sooo pretty.  i happene...       5                1   \n",
       "2  I had such high hopes for this dress and reall...       3                0   \n",
       "3  I love, love, love this jumpsuit. it's fun, fl...       5                1   \n",
       "4  This shirt is very flattering to all due to th...       5                1   \n",
       "\n",
       "   Positive Feedback Count   Division Name Department Name Class Name  \n",
       "0                        0       Initmates        Intimate  Intimates  \n",
       "1                        4         General         Dresses    Dresses  \n",
       "2                        0         General         Dresses    Dresses  \n",
       "3                        0  General Petite         Bottoms      Pants  \n",
       "4                        6         General            Tops    Blouses  "
      ]
     },
     "execution_count": 96,
     "metadata": {},
     "output_type": "execute_result"
    }
   ],
   "source": [
    "# importing dataset and viewing the first 5 items \n",
    "df = pd.read_csv(\"Womens Clothing E-Commerce Reviews.csv\")\n",
    "df.head()"
   ]
  },
  {
   "cell_type": "markdown",
   "metadata": {},
   "source": [
    "after looking at the dataset, we determin the following:\n",
    "* We have some *NaN* in that we need to get rid of.\n",
    "* We need to choose only the **Dresses** from our dataset.\n",
    "* We need to add a new column to classify each and every review. "
   ]
  },
  {
   "cell_type": "code",
   "execution_count": 80,
   "metadata": {},
   "outputs": [
    {
     "data": {
      "text/html": [
       "<div>\n",
       "<style scoped>\n",
       "    .dataframe tbody tr th:only-of-type {\n",
       "        vertical-align: middle;\n",
       "    }\n",
       "\n",
       "    .dataframe tbody tr th {\n",
       "        vertical-align: top;\n",
       "    }\n",
       "\n",
       "    .dataframe thead th {\n",
       "        text-align: right;\n",
       "    }\n",
       "</style>\n",
       "<table border=\"1\" class=\"dataframe\">\n",
       "  <thead>\n",
       "    <tr style=\"text-align: right;\">\n",
       "      <th></th>\n",
       "      <th>Unnamed: 0</th>\n",
       "      <th>Clothing ID</th>\n",
       "      <th>Age</th>\n",
       "      <th>Title</th>\n",
       "      <th>Review Text</th>\n",
       "      <th>Rating</th>\n",
       "      <th>Recommended IND</th>\n",
       "      <th>Positive Feedback Count</th>\n",
       "      <th>Division Name</th>\n",
       "      <th>Department Name</th>\n",
       "      <th>Class Name</th>\n",
       "      <th>Rating Category</th>\n",
       "    </tr>\n",
       "  </thead>\n",
       "  <tbody>\n",
       "    <tr>\n",
       "      <th>0</th>\n",
       "      <td>0</td>\n",
       "      <td>767</td>\n",
       "      <td>33</td>\n",
       "      <td>NaN</td>\n",
       "      <td>Absolutely wonderful - silky and sexy and comf...</td>\n",
       "      <td>4</td>\n",
       "      <td>1</td>\n",
       "      <td>0</td>\n",
       "      <td>Initmates</td>\n",
       "      <td>Intimate</td>\n",
       "      <td>Intimates</td>\n",
       "      <td>Positive</td>\n",
       "    </tr>\n",
       "    <tr>\n",
       "      <th>1</th>\n",
       "      <td>1</td>\n",
       "      <td>1080</td>\n",
       "      <td>34</td>\n",
       "      <td>NaN</td>\n",
       "      <td>Love this dress!  it's sooo pretty.  i happene...</td>\n",
       "      <td>5</td>\n",
       "      <td>1</td>\n",
       "      <td>4</td>\n",
       "      <td>General</td>\n",
       "      <td>Dresses</td>\n",
       "      <td>Dresses</td>\n",
       "      <td>Positive</td>\n",
       "    </tr>\n",
       "    <tr>\n",
       "      <th>2</th>\n",
       "      <td>2</td>\n",
       "      <td>1077</td>\n",
       "      <td>60</td>\n",
       "      <td>Some major design flaws</td>\n",
       "      <td>I had such high hopes for this dress and reall...</td>\n",
       "      <td>3</td>\n",
       "      <td>0</td>\n",
       "      <td>0</td>\n",
       "      <td>General</td>\n",
       "      <td>Dresses</td>\n",
       "      <td>Dresses</td>\n",
       "      <td>Neutral/Negative</td>\n",
       "    </tr>\n",
       "    <tr>\n",
       "      <th>3</th>\n",
       "      <td>3</td>\n",
       "      <td>1049</td>\n",
       "      <td>50</td>\n",
       "      <td>My favorite buy!</td>\n",
       "      <td>I love, love, love this jumpsuit. it's fun, fl...</td>\n",
       "      <td>5</td>\n",
       "      <td>1</td>\n",
       "      <td>0</td>\n",
       "      <td>General Petite</td>\n",
       "      <td>Bottoms</td>\n",
       "      <td>Pants</td>\n",
       "      <td>Positive</td>\n",
       "    </tr>\n",
       "    <tr>\n",
       "      <th>4</th>\n",
       "      <td>4</td>\n",
       "      <td>847</td>\n",
       "      <td>47</td>\n",
       "      <td>Flattering shirt</td>\n",
       "      <td>This shirt is very flattering to all due to th...</td>\n",
       "      <td>5</td>\n",
       "      <td>1</td>\n",
       "      <td>6</td>\n",
       "      <td>General</td>\n",
       "      <td>Tops</td>\n",
       "      <td>Blouses</td>\n",
       "      <td>Positive</td>\n",
       "    </tr>\n",
       "  </tbody>\n",
       "</table>\n",
       "</div>"
      ],
      "text/plain": [
       "   Unnamed: 0  Clothing ID  Age                    Title  \\\n",
       "0           0          767   33                      NaN   \n",
       "1           1         1080   34                      NaN   \n",
       "2           2         1077   60  Some major design flaws   \n",
       "3           3         1049   50         My favorite buy!   \n",
       "4           4          847   47         Flattering shirt   \n",
       "\n",
       "                                         Review Text  Rating  Recommended IND  \\\n",
       "0  Absolutely wonderful - silky and sexy and comf...       4                1   \n",
       "1  Love this dress!  it's sooo pretty.  i happene...       5                1   \n",
       "2  I had such high hopes for this dress and reall...       3                0   \n",
       "3  I love, love, love this jumpsuit. it's fun, fl...       5                1   \n",
       "4  This shirt is very flattering to all due to th...       5                1   \n",
       "\n",
       "   Positive Feedback Count   Division Name Department Name Class Name  \\\n",
       "0                        0       Initmates        Intimate  Intimates   \n",
       "1                        4         General         Dresses    Dresses   \n",
       "2                        0         General         Dresses    Dresses   \n",
       "3                        0  General Petite         Bottoms      Pants   \n",
       "4                        6         General            Tops    Blouses   \n",
       "\n",
       "    Rating Category  \n",
       "0          Positive  \n",
       "1          Positive  \n",
       "2  Neutral/Negative  \n",
       "3          Positive  \n",
       "4          Positive  "
      ]
     },
     "execution_count": 80,
     "metadata": {},
     "output_type": "execute_result"
    }
   ],
   "source": [
    "# applying a lambda because our operation is straight forward and does not require us to declare complex funciton\n",
    "df[\"Rating Category\"] = df[\"Rating\"].apply(lambda x: \"Positive\" if x > 3 else \"Neutral/Negative\")\n",
    "df.head()"
   ]
  },
  {
   "cell_type": "markdown",
   "metadata": {},
   "source": [
    "After the classification process, we are going to take a subset of our dataset and choose only reviews that belongs to the _Dresses_ under column **Department Name**. Then we drop rows _NaN_ values."
   ]
  },
  {
   "cell_type": "code",
   "execution_count": 81,
   "metadata": {},
   "outputs": [
    {
     "data": {
      "text/html": [
       "<div>\n",
       "<style scoped>\n",
       "    .dataframe tbody tr th:only-of-type {\n",
       "        vertical-align: middle;\n",
       "    }\n",
       "\n",
       "    .dataframe tbody tr th {\n",
       "        vertical-align: top;\n",
       "    }\n",
       "\n",
       "    .dataframe thead th {\n",
       "        text-align: right;\n",
       "    }\n",
       "</style>\n",
       "<table border=\"1\" class=\"dataframe\">\n",
       "  <thead>\n",
       "    <tr style=\"text-align: right;\">\n",
       "      <th></th>\n",
       "      <th>Clothing ID</th>\n",
       "      <th>Review Text</th>\n",
       "      <th>Rating</th>\n",
       "      <th>Rating Category</th>\n",
       "      <th>Department Name</th>\n",
       "    </tr>\n",
       "  </thead>\n",
       "  <tbody>\n",
       "    <tr>\n",
       "      <th>1</th>\n",
       "      <td>1080</td>\n",
       "      <td>Love this dress!  it's sooo pretty.  i happene...</td>\n",
       "      <td>5</td>\n",
       "      <td>Positive</td>\n",
       "      <td>Dresses</td>\n",
       "    </tr>\n",
       "    <tr>\n",
       "      <th>2</th>\n",
       "      <td>1077</td>\n",
       "      <td>I had such high hopes for this dress and reall...</td>\n",
       "      <td>3</td>\n",
       "      <td>Neutral/Negative</td>\n",
       "      <td>Dresses</td>\n",
       "    </tr>\n",
       "    <tr>\n",
       "      <th>5</th>\n",
       "      <td>1080</td>\n",
       "      <td>I love tracy reese dresses, but this one is no...</td>\n",
       "      <td>2</td>\n",
       "      <td>Neutral/Negative</td>\n",
       "      <td>Dresses</td>\n",
       "    </tr>\n",
       "    <tr>\n",
       "      <th>8</th>\n",
       "      <td>1077</td>\n",
       "      <td>I love this dress. i usually get an xs but it ...</td>\n",
       "      <td>5</td>\n",
       "      <td>Positive</td>\n",
       "      <td>Dresses</td>\n",
       "    </tr>\n",
       "    <tr>\n",
       "      <th>9</th>\n",
       "      <td>1077</td>\n",
       "      <td>I'm 5\"5' and 125 lbs. i ordered the s petite t...</td>\n",
       "      <td>5</td>\n",
       "      <td>Positive</td>\n",
       "      <td>Dresses</td>\n",
       "    </tr>\n",
       "  </tbody>\n",
       "</table>\n",
       "</div>"
      ],
      "text/plain": [
       "   Clothing ID                                        Review Text  Rating  \\\n",
       "1         1080  Love this dress!  it's sooo pretty.  i happene...       5   \n",
       "2         1077  I had such high hopes for this dress and reall...       3   \n",
       "5         1080  I love tracy reese dresses, but this one is no...       2   \n",
       "8         1077  I love this dress. i usually get an xs but it ...       5   \n",
       "9         1077  I'm 5\"5' and 125 lbs. i ordered the s petite t...       5   \n",
       "\n",
       "    Rating Category Department Name  \n",
       "1          Positive         Dresses  \n",
       "2  Neutral/Negative         Dresses  \n",
       "5  Neutral/Negative         Dresses  \n",
       "8          Positive         Dresses  \n",
       "9          Positive         Dresses  "
      ]
     },
     "execution_count": 81,
     "metadata": {},
     "output_type": "execute_result"
    }
   ],
   "source": [
    "df_subset = df[df[\"Department Name\"] == \"Dresses\"]\n",
    "df_subset = df_subset[[\"Clothing ID\",\"Review Text\", \"Rating\", \"Rating Category\", \"Department Name\"]]\n",
    "df_subset = df_subset.dropna()\n",
    "df_subset.head()"
   ]
  },
  {
   "cell_type": "markdown",
   "metadata": {},
   "source": [
    "Now, let's look at the value count of the reviews we have in our subset of the data."
   ]
  },
  {
   "cell_type": "code",
   "execution_count": 82,
   "metadata": {},
   "outputs": [
    {
     "data": {
      "text/plain": [
       "Positive            4634\n",
       "Neutral/Negative    1511\n",
       "Name: Rating Category, dtype: int64"
      ]
     },
     "execution_count": 82,
     "metadata": {},
     "output_type": "execute_result"
    }
   ],
   "source": [
    "df_subset[\"Rating Category\"].value_counts()"
   ]
  },
  {
   "cell_type": "markdown",
   "metadata": {},
   "source": [
    "# Text Modeling and Document Feature Matrix"
   ]
  },
  {
   "cell_type": "markdown",
   "metadata": {},
   "source": [
    "Now that we have our dataset ready, we are going to create the **Document Feature Matrix** by Tokenizing the text and fitting it into a matrix."
   ]
  },
  {
   "cell_type": "markdown",
   "metadata": {},
   "source": [
    "**Tokenizing** is the process of breaking a text into a words or Units. We are going to do so by using *CountVectorizer from sklearn.feature_text_extraction* library. \n",
    "*CountVectorizer* breaks the text into a a bag of words and create a dictionary from a series of text and then change them to lower case. Since the text used is **English** then we are going to use _stop_words_ for the English language.\n",
    "The *stop_words* are informative words and frequently used in the English language and therefor will not be counted.\n",
    "Also, we need to convert the text to **Unicode** and we are going to do so by using *astype('U')*"
   ]
  },
  {
   "cell_type": "code",
   "execution_count": 100,
   "metadata": {},
   "outputs": [
    {
     "name": "stdout",
     "output_type": "stream",
     "text": [
      "There are 8079 words in the vocabulary. A selection: ['airier', 'airiness', 'airism', 'airline', 'airplane', 'airplanes', 'airport', 'airy', 'aize', 'aka', 'akward', 'al', 'alas', 'albeit', 'alerations', 'alert', 'alexandria', 'align', 'aligned', 'alignment']\n"
     ]
    }
   ],
   "source": [
    "# converting the text to unicode and saving it in a NumpyArray\n",
    "text = df_subset['Review Text'].values.astype('U')\n",
    "# creating the object CountVectorizer with English stop words\n",
    "vect = CountVectorizer(stop_words=\"english\")\n",
    "# fitting the text into the CountVectorizer Object\n",
    "vect = vect.fit(text)\n",
    "# getting the words from the dictionary of words \n",
    "feature_names = vect.get_feature_names()\n",
    "print(f\"There are {len(feature_names)} words in the vocabulary. A selection: {feature_names[500:520]}\")"
   ]
  },
  {
   "cell_type": "markdown",
   "metadata": {},
   "source": [
    "Now that we have a dictionary of words created. we are going to create a **Document Feature** matrix ou of it by using the *transform* method. the *transform* method transform a document into a **Document Feature Matrix** also known as **Document Term Matrix** "
   ]
  },
  {
   "cell_type": "code",
   "execution_count": 107,
   "metadata": {},
   "outputs": [
    {
     "data": {
      "text/plain": [
       "<6145x8079 sparse matrix of type '<class 'numpy.int64'>'\n",
       "\twith 154409 stored elements in Compressed Sparse Row format>"
      ]
     },
     "execution_count": 107,
     "metadata": {},
     "output_type": "execute_result"
    }
   ],
   "source": [
    "# creating the document feature matrix\n",
    "docu_feat = vect.transform(text)\n",
    "docu_feat"
   ]
  },
  {
   "cell_type": "markdown",
   "metadata": {},
   "source": [
    "A sparse matrix is a very large matrix that consists mostly of 0's. therefor we are going to view a sample of it below."
   ]
  },
  {
   "cell_type": "code",
   "execution_count": 110,
   "metadata": {},
   "outputs": [
    {
     "name": "stdout",
     "output_type": "stream",
     "text": [
      "  (2, 8)\t1\n",
      "  (4, 72)\t1\n",
      "  (4, 224)\t1\n",
      "  (18, 210)\t1\n",
      "  (19, 80)\t1\n",
      "  (19, 435)\t1\n",
      "  (19, 447)\t1\n",
      "  (20, 38)\t1\n",
      "  (21, 4)\t1\n",
      "  (21, 45)\t1\n",
      "  (22, 12)\t1\n",
      "  (22, 248)\t1\n",
      "  (24, 55)\t1\n",
      "  (25, 40)\t1\n",
      "  (27, 60)\t1\n",
      "  (27, 226)\t1\n",
      "  (27, 237)\t1\n",
      "  (28, 436)\t1\n",
      "  (30, 241)\t1\n",
      "  (31, 104)\t1\n",
      "  (31, 186)\t1\n",
      "  (31, 233)\t1\n",
      "  (31, 255)\t1\n",
      "  (32, 428)\t1\n",
      "  (34, 12)\t2\n",
      "  :\t:\n",
      "  (472, 304)\t1\n",
      "  (472, 316)\t1\n",
      "  (474, 104)\t1\n",
      "  (474, 243)\t1\n",
      "  (474, 422)\t1\n",
      "  (475, 84)\t1\n",
      "  (475, 96)\t1\n",
      "  (475, 186)\t1\n",
      "  (475, 233)\t1\n",
      "  (475, 242)\t1\n",
      "  (475, 248)\t1\n",
      "  (477, 86)\t1\n",
      "  (477, 485)\t1\n",
      "  (480, 37)\t1\n",
      "  (482, 66)\t1\n",
      "  (482, 484)\t1\n",
      "  (483, 45)\t1\n",
      "  (483, 184)\t1\n",
      "  (483, 201)\t1\n",
      "  (484, 96)\t1\n",
      "  (488, 108)\t1\n",
      "  (492, 167)\t1\n",
      "  (497, 447)\t1\n",
      "  (498, 60)\t1\n",
      "  (498, 408)\t1\n"
     ]
    }
   ],
   "source": [
    "print(docu_feat[0:500, 0:500])"
   ]
  },
  {
   "cell_type": "markdown",
   "metadata": {},
   "source": [
    "# Building the Naive Bayes Model"
   ]
  },
  {
   "cell_type": "markdown",
   "metadata": {},
   "source": [
    "Now that we have our Document Feature Matrix ready. we are going to plit our dataset into a training set and a test set to prepare for building our **Naive Bayes Model**"
   ]
  },
  {
   "cell_type": "code",
   "execution_count": 85,
   "metadata": {},
   "outputs": [],
   "source": [
    "# spliting the data set into training set and test set\n",
    "X = docu_feat\n",
    "y = df_subset[\"Rating Category\"]\n",
    "X_train, X_test, y_train, y_test = train_test_split(X, y, test_size = 0.3, random_state = 1)"
   ]
  },
  {
   "cell_type": "markdown",
   "metadata": {},
   "source": [
    "Now we are going to create our Naive Bayes model."
   ]
  },
  {
   "cell_type": "markdown",
   "metadata": {},
   "source": [
    "The Naive Bayes is an algorithm based on Bayes Theorem. Now Bayes Theorem itself calculates the probability of something given that a prior condition related to that event. For example the probability for raining given that it is cloudy. "
   ]
  },
  {
   "cell_type": "markdown",
   "metadata": {},
   "source": [
    "The general formula of Naive Theorem is as follows: $ P(A|B) = \\frac{P(B|A) * P(A)}{P(B)} $\n",
    "\n",
    "it means calculating the probability of A given the condition B"
   ]
  },
  {
   "cell_type": "markdown",
   "metadata": {},
   "source": [
    "How **Naive Bayes Algorithm** works is that it compares the $ P(A|B) $ vs $ P(B|A) $ and makes the classification based on the higher number.\n"
   ]
  },
  {
   "cell_type": "markdown",
   "metadata": {},
   "source": [
    "So in our case it is going to be as follows: $ P(Positive Review | Word) $ vs $ P(Neutral/Negative | Word)$ and makes the classification based on that. To put it in words, Naive Bayes algorithm compares the reviews given the have certain features, in our case words and makes the classification based on the probability comparison of the two cateogries."
   ]
  },
  {
   "cell_type": "markdown",
   "metadata": {},
   "source": [
    "The steps which **Naive Bayes** works is as follows.\n",
    "We are going to demonstrate the steps by doing the $ P(Positive Review|words) $:\n",
    "Formula would be as follows:\n",
    "$P(Positive Review|words) = \\frac{P(Word|Positive Review) * P(Positive Review)}{P(Word)}$\n",
    "\n",
    "* Calculate the Prior Probability: $ P(Positive Reviews)$ which means the probability of text in our dataset being a positive review devided by the total number of reviews:\n",
    "\n",
    "$ \\frac{Count Of Positive Reviews}{Total Number Of Reviews} $.\n",
    "\n",
    "* Calculate the Marginal Likelyhood: $ P(Word) $ which means, the likelyhood of the choosing a specific word If we picked randomly.  \n",
    "\n",
    "$ \\frac{Count Of A Specific Word}{Total Number Of Words}$\n",
    "\n",
    "* Calculating the Likelyhood $P(Words | Positive Reviews)$: In our case it means the likelyhood of us picking a word that belongs to the category of Positive Reviews.\n",
    "\n",
    "$ \\frac{Count Of a Specific Word} {Total Number Of Words In the Positive Review Category}.$"
   ]
  },
  {
   "cell_type": "markdown",
   "metadata": {},
   "source": [
    "The same thing is done for $ P(Negative Review | Words) $ and then the probability is compared and based on that comparison the classification is made."
   ]
  },
  {
   "cell_type": "code",
   "execution_count": 111,
   "metadata": {},
   "outputs": [
    {
     "data": {
      "text/plain": [
       "MultinomialNB()"
      ]
     },
     "execution_count": 111,
     "metadata": {},
     "output_type": "execute_result"
    }
   ],
   "source": [
    "#creating the model\n",
    "mnb = MultinomialNB()\n",
    "# training the model\n",
    "mnb.fit(X_train, y_train)"
   ]
  },
  {
   "cell_type": "code",
   "execution_count": 87,
   "metadata": {},
   "outputs": [
    {
     "data": {
      "text/plain": [
       "array(['Positive', 'Positive', 'Positive', ..., 'Positive', 'Positive',\n",
       "       'Positive'], dtype='<U16')"
      ]
     },
     "execution_count": 87,
     "metadata": {},
     "output_type": "execute_result"
    }
   ],
   "source": [
    "# creating prediction array with the test set\n",
    "y_test_p = mnb.predict(X_test)\n",
    "y_test_p"
   ]
  },
  {
   "cell_type": "code",
   "execution_count": 88,
   "metadata": {},
   "outputs": [
    {
     "data": {
      "text/plain": [
       "0.8508676789587852"
      ]
     },
     "execution_count": 88,
     "metadata": {},
     "output_type": "execute_result"
    }
   ],
   "source": [
    "mnb.score(X_test, y_test)"
   ]
  },
  {
   "cell_type": "markdown",
   "metadata": {},
   "source": [
    "The Accuracy of our model is *85%* which is fairly good. Now we are going to create a Confusion Matrix to analize our classification"
   ]
  },
  {
   "cell_type": "code",
   "execution_count": 112,
   "metadata": {},
   "outputs": [
    {
     "data": {
      "text/plain": [
       "array([[ 301,  168],\n",
       "       [ 107, 1268]])"
      ]
     },
     "execution_count": 112,
     "metadata": {},
     "output_type": "execute_result"
    }
   ],
   "source": [
    "# creating a confusion matrix with the test set\n",
    "cm = confusion_matrix(y_test, y_test_p)\n",
    "cm"
   ]
  },
  {
   "cell_type": "code",
   "execution_count": 90,
   "metadata": {},
   "outputs": [
    {
     "data": {
      "text/plain": [
       "array(['Neutral/Negative', 'Positive'], dtype='<U16')"
      ]
     },
     "execution_count": 90,
     "metadata": {},
     "output_type": "execute_result"
    }
   ],
   "source": [
    "# to build the matrix we are going to view the classes of the array first to view the order \n",
    "mnb.classes_"
   ]
  },
  {
   "cell_type": "code",
   "execution_count": 91,
   "metadata": {},
   "outputs": [
    {
     "data": {
      "text/html": [
       "<div>\n",
       "<style scoped>\n",
       "    .dataframe tbody tr th:only-of-type {\n",
       "        vertical-align: middle;\n",
       "    }\n",
       "\n",
       "    .dataframe tbody tr th {\n",
       "        vertical-align: top;\n",
       "    }\n",
       "\n",
       "    .dataframe thead th {\n",
       "        text-align: right;\n",
       "    }\n",
       "</style>\n",
       "<table border=\"1\" class=\"dataframe\">\n",
       "  <thead>\n",
       "    <tr style=\"text-align: right;\">\n",
       "      <th></th>\n",
       "      <th>Neutral/Negative (Predicted)</th>\n",
       "      <th>Positive (Predicted)</th>\n",
       "    </tr>\n",
       "  </thead>\n",
       "  <tbody>\n",
       "    <tr>\n",
       "      <th>Neutral/Negative (Actual)</th>\n",
       "      <td>301</td>\n",
       "      <td>168</td>\n",
       "    </tr>\n",
       "    <tr>\n",
       "      <th>Positive (Actual)</th>\n",
       "      <td>107</td>\n",
       "      <td>1268</td>\n",
       "    </tr>\n",
       "  </tbody>\n",
       "</table>\n",
       "</div>"
      ],
      "text/plain": [
       "                           Neutral/Negative (Predicted)  Positive (Predicted)\n",
       "Neutral/Negative (Actual)                           301                   168\n",
       "Positive (Actual)                                   107                  1268"
      ]
     },
     "execution_count": 91,
     "metadata": {},
     "output_type": "execute_result"
    }
   ],
   "source": [
    "conf_matrix = pd.DataFrame(cm, index = [\"Neutral/Negative (Actual)\", \"Positive (Actual)\"], columns = [\"Neutral/Negative (Predicted)\", \"Positive (Predicted)\"])\n",
    "conf_matrix"
   ]
  },
  {
   "cell_type": "markdown",
   "metadata": {},
   "source": [
    "After looking at the confusion matrix, we are going to calculate **Precision** and the **Recall**"
   ]
  },
  {
   "cell_type": "code",
   "execution_count": 114,
   "metadata": {},
   "outputs": [
    {
     "name": "stdout",
     "output_type": "stream",
     "text": [
      "                  precision    recall  f1-score   support\n",
      "\n",
      "Neutral/Negative       0.74      0.64      0.69       469\n",
      "        Positive       0.88      0.92      0.90      1375\n",
      "\n",
      "        accuracy                           0.85      1844\n",
      "       macro avg       0.81      0.78      0.79      1844\n",
      "    weighted avg       0.85      0.85      0.85      1844\n",
      "\n"
     ]
    }
   ],
   "source": [
    "print(classification_report(y_test, y_test_p))"
   ]
  },
  {
   "cell_type": "markdown",
   "metadata": {},
   "source": [
    "We are going to fit our trained model into the whole dataset, and take a subset where the model was off and try to analyze the reason."
   ]
  },
  {
   "cell_type": "code",
   "execution_count": 115,
   "metadata": {},
   "outputs": [
    {
     "data": {
      "text/html": [
       "<div>\n",
       "<style scoped>\n",
       "    .dataframe tbody tr th:only-of-type {\n",
       "        vertical-align: middle;\n",
       "    }\n",
       "\n",
       "    .dataframe tbody tr th {\n",
       "        vertical-align: top;\n",
       "    }\n",
       "\n",
       "    .dataframe thead th {\n",
       "        text-align: right;\n",
       "    }\n",
       "</style>\n",
       "<table border=\"1\" class=\"dataframe\">\n",
       "  <thead>\n",
       "    <tr style=\"text-align: right;\">\n",
       "      <th></th>\n",
       "      <th>Clothing ID</th>\n",
       "      <th>Review Text</th>\n",
       "      <th>Rating</th>\n",
       "      <th>Rating Category</th>\n",
       "      <th>Department Name</th>\n",
       "      <th>Rating_Prediction</th>\n",
       "    </tr>\n",
       "  </thead>\n",
       "  <tbody>\n",
       "    <tr>\n",
       "      <th>23</th>\n",
       "      <td>1077</td>\n",
       "      <td>Cute little dress fits tts. it is a little hig...</td>\n",
       "      <td>3</td>\n",
       "      <td>Neutral/Negative</td>\n",
       "      <td>Dresses</td>\n",
       "      <td>Positive</td>\n",
       "    </tr>\n",
       "    <tr>\n",
       "      <th>52</th>\n",
       "      <td>1104</td>\n",
       "      <td>Love the color and style, but material snags e...</td>\n",
       "      <td>3</td>\n",
       "      <td>Neutral/Negative</td>\n",
       "      <td>Dresses</td>\n",
       "      <td>Positive</td>\n",
       "    </tr>\n",
       "    <tr>\n",
       "      <th>311</th>\n",
       "      <td>1089</td>\n",
       "      <td>Looks beautiful online but has too much materi...</td>\n",
       "      <td>3</td>\n",
       "      <td>Neutral/Negative</td>\n",
       "      <td>Dresses</td>\n",
       "      <td>Positive</td>\n",
       "    </tr>\n",
       "    <tr>\n",
       "      <th>383</th>\n",
       "      <td>1104</td>\n",
       "      <td>This dress is not what i expected. the bottom ...</td>\n",
       "      <td>3</td>\n",
       "      <td>Neutral/Negative</td>\n",
       "      <td>Dresses</td>\n",
       "      <td>Positive</td>\n",
       "    </tr>\n",
       "    <tr>\n",
       "      <th>417</th>\n",
       "      <td>1083</td>\n",
       "      <td>I love byron lars dresses, and this design is ...</td>\n",
       "      <td>2</td>\n",
       "      <td>Neutral/Negative</td>\n",
       "      <td>Dresses</td>\n",
       "      <td>Positive</td>\n",
       "    </tr>\n",
       "  </tbody>\n",
       "</table>\n",
       "</div>"
      ],
      "text/plain": [
       "     Clothing ID                                        Review Text  Rating  \\\n",
       "23          1077  Cute little dress fits tts. it is a little hig...       3   \n",
       "52          1104  Love the color and style, but material snags e...       3   \n",
       "311         1089  Looks beautiful online but has too much materi...       3   \n",
       "383         1104  This dress is not what i expected. the bottom ...       3   \n",
       "417         1083  I love byron lars dresses, and this design is ...       2   \n",
       "\n",
       "      Rating Category Department Name Rating_Prediction  \n",
       "23   Neutral/Negative         Dresses          Positive  \n",
       "52   Neutral/Negative         Dresses          Positive  \n",
       "311  Neutral/Negative         Dresses          Positive  \n",
       "383  Neutral/Negative         Dresses          Positive  \n",
       "417  Neutral/Negative         Dresses          Positive  "
      ]
     },
     "execution_count": 115,
     "metadata": {},
     "output_type": "execute_result"
    }
   ],
   "source": [
    "df_subset[\"Rating_Prediction\"] = mnb.predict(X)\n",
    "df_contradictions = df_subset[df_subset[\"Rating Category\"] != df_subset[\"Rating_Prediction\"]]\n",
    "df_contradictions.head()"
   ]
  },
  {
   "cell_type": "code",
   "execution_count": 95,
   "metadata": {},
   "outputs": [
    {
     "name": "stdout",
     "output_type": "stream",
     "text": [
      "for item number 1\n",
      "the review text we have is:\n",
      "Cute little dress fits tts. it is a little high waisted. good length for my 5'9 height. i like the dress, i'm just not in love with it. i dont think it looks or feels cheap. it appears just as pictured.\n",
      "\n",
      "the actual Score for this review is:\n",
      "3\n",
      "\n",
      "the actual Rating Category for this review is:\n",
      "Neutral/Negative\n",
      "\n",
      "the Predicted Category for this review is:\n",
      "Positive\n",
      "\n",
      "\n",
      "for item number 2\n",
      "the review text we have is:\n",
      "Love the color and style, but material snags easily\n",
      "\n",
      "the actual Score for this review is:\n",
      "3\n",
      "\n",
      "the actual Rating Category for this review is:\n",
      "Neutral/Negative\n",
      "\n",
      "the Predicted Category for this review is:\n",
      "Positive\n",
      "\n",
      "\n",
      "for item number 3\n",
      "the review text we have is:\n",
      "Looks beautiful online but has too much material and the zipper catches on the lace. also runs very large, i am normally a small but would need and xs in this dress\n",
      "\n",
      "the actual Score for this review is:\n",
      "3\n",
      "\n",
      "the actual Rating Category for this review is:\n",
      "Neutral/Negative\n",
      "\n",
      "the Predicted Category for this review is:\n",
      "Positive\n",
      "\n",
      "\n"
     ]
    }
   ],
   "source": [
    "for i in range(0,3):\n",
    "    print(f\"for item number {i+1}\")\n",
    "    print(f\"the review text we have is:\\n{df_contradictions.iloc[i,1]}\\n\")\n",
    "    print(f\"the actual Score for this review is:\\n{df_contradictions.iloc[i,2]}\\n\")\n",
    "    print(f\"the actual Rating Category for this review is:\\n{df_contradictions.iloc[i,3]}\\n\")\n",
    "    print(f\"the Predicted Category for this review is:\\n{df_contradictions.iloc[i,5]}\\n\\n\")"
   ]
  },
  {
   "cell_type": "markdown",
   "metadata": {},
   "source": [
    "With the look at the first 3 cases, we can see that the prediciton was off due to the fact that those reviews contains word such as \"Love\", \"Beautiful\". And our model assumed that the probability of these words occuring in the text is most likely to be a positive review.  "
   ]
  },
  {
   "cell_type": "code",
   "execution_count": null,
   "metadata": {},
   "outputs": [],
   "source": []
  }
 ],
 "metadata": {
  "kernelspec": {
   "display_name": "Python 3",
   "language": "python",
   "name": "python3"
  },
  "language_info": {
   "codemirror_mode": {
    "name": "ipython",
    "version": 3
   },
   "file_extension": ".py",
   "mimetype": "text/x-python",
   "name": "python",
   "nbconvert_exporter": "python",
   "pygments_lexer": "ipython3",
   "version": "3.8.3"
  }
 },
 "nbformat": 4,
 "nbformat_minor": 4
}
